{
 "cells": [
  {
   "cell_type": "code",
   "execution_count": 7,
   "metadata": {},
   "outputs": [],
   "source": [
    "from src.brain_tumor.utils.common import read_yaml,create_directories\n",
    "from src.brain_tumor.constants import *\n",
    "from src.brain_tumor.logger import logging\n",
    "\n",
    "import pandas as pd\n",
    "from dataclasses import dataclass\n",
    "from pathlib import Path\n",
    "\n",
    "logging.info('imported modules')\n"
   ]
  },
  {
   "cell_type": "code",
   "execution_count": 2,
   "id": "3b28a603",
   "metadata": {},
   "outputs": [],
   "source": [
    "@dataclass (frozen=True)\n",
    "class DataIngestionConfig:\n",
    "    root_dir    : Path\n",
    "    image_dir   : Path\n",
    "    mask_dir    : Path\n",
    "    train_csv_path  : Path\n",
    "    test_csv_path   : Path\n",
    "    raw_csv_path    : Path\n",
    "\n",
    "\n"
   ]
  },
  {
   "cell_type": "code",
   "execution_count": 18,
   "id": "ea82c9d6",
   "metadata": {},
   "outputs": [],
   "source": [
    "class DataIngestionManager:\n",
    "    def __init__(self,\n",
    "                 config_file_path = CONFIG_FILE_PATH,\n",
    "                 params_file_path = PARAMS_FILE_PATH):\n",
    "        \n",
    "        self.config = read_yaml(config_file_path)\n",
    "        self.params = read_yaml(params_file_path)\n",
    "\n",
    "        create_directories([self.config.artifacts_root])\n",
    "        logging.info(f'created h')"
   ]
  },
  {
   "cell_type": "code",
   "execution_count": 19,
   "id": "ffea9640",
   "metadata": {},
   "outputs": [],
   "source": [
    "a = DataIngestionManager"
   ]
  },
  {
   "cell_type": "code",
   "execution_count": null,
   "id": "7f2bebdc",
   "metadata": {},
   "outputs": [],
   "source": []
  }
 ],
 "metadata": {
  "kernelspec": {
   "display_name": "Python 3",
   "language": "python",
   "name": "python3"
  },
  "language_info": {
   "codemirror_mode": {
    "name": "ipython",
    "version": 3
   },
   "file_extension": ".py",
   "mimetype": "text/x-python",
   "name": "python",
   "nbconvert_exporter": "python",
   "pygments_lexer": "ipython3",
   "version": "3.9.0"
  }
 },
 "nbformat": 4,
 "nbformat_minor": 5
}
